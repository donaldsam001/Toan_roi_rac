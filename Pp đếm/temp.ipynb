{
 "cells": [
  {
   "cell_type": "code",
   "execution_count": 9,
   "metadata": {},
   "outputs": [],
   "source": [
    "import math\n",
    "import sympy"
   ]
  },
  {
   "cell_type": "code",
   "execution_count": 20,
   "metadata": {},
   "outputs": [
    {
     "data": {
      "text/latex": [
       "$\\displaystyle \\frac{n \\left(n^{2} - 3 n - 4\\right)}{6}$"
      ],
      "text/plain": [
       "n*(n**2 - 3*n - 4)/6"
      ]
     },
     "execution_count": 20,
     "metadata": {},
     "output_type": "execute_result"
    }
   ],
   "source": [
    "from sympy import symbols, summation\n",
    "\n",
    "n, i, j, k = symbols('n i j k')\n",
    "\n",
    "expr = summation(1, (k, j, n), (j, i, n), (i, 1, n)) - summation(1, (k, i, n), (i, 1, n)) - summation(1, (j, i, n), (i, 1, n))\n",
    "expr.simplify()\n",
    "\n"
   ]
  },
  {
   "cell_type": "code",
   "execution_count": 21,
   "metadata": {},
   "outputs": [
    {
     "data": {
      "text/latex": [
       "$\\displaystyle \\frac{n \\left(n^{2} + 3 n + 2\\right)}{6}$"
      ],
      "text/plain": [
       "n*(n**2 + 3*n + 2)/6"
      ]
     },
     "execution_count": 21,
     "metadata": {},
     "output_type": "execute_result"
    }
   ],
   "source": [
    "summation(1, (j, k, n), (k, i, n), (i, 1, n)).simplify()"
   ]
  },
  {
   "cell_type": "code",
   "execution_count": 24,
   "metadata": {},
   "outputs": [
    {
     "data": {
      "text/latex": [
       "$\\displaystyle \\frac{n \\left(n^{2} - 1\\right)}{6}$"
      ],
      "text/plain": [
       "n*(n**2 - 1)/6"
      ]
     },
     "execution_count": 24,
     "metadata": {},
     "output_type": "execute_result"
    }
   ],
   "source": [
    "e=summation(1, (k, j, n), (j, i, n), (i, 1, n)) - summation(1, (k, i, n), (i, 1, n))\n",
    "e.simplify()"
   ]
  },
  {
   "cell_type": "code",
   "execution_count": null,
   "metadata": {},
   "outputs": [],
   "source": []
  }
 ],
 "metadata": {
  "kernelspec": {
   "display_name": "Python 3",
   "language": "python",
   "name": "python3"
  },
  "language_info": {
   "codemirror_mode": {
    "name": "ipython",
    "version": 3
   },
   "file_extension": ".py",
   "mimetype": "text/x-python",
   "name": "python",
   "nbconvert_exporter": "python",
   "pygments_lexer": "ipython3",
   "version": "3.12.1"
  }
 },
 "nbformat": 4,
 "nbformat_minor": 2
}
