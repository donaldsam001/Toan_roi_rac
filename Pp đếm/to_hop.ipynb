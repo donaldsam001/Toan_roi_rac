{
 "cells": [
  {
   "cell_type": "code",
   "execution_count": 1,
   "metadata": {},
   "outputs": [],
   "source": [
    "def to_hop(a,k): # to hop chap k cua a=[a, b, c, d] \n",
    "    if k==1:\n",
    "        return [[i] for i in a]\n",
    "    n= len(a)\n",
    "    if k==n: \n",
    "        return [a]\n",
    "    C=[]\n",
    "    b=a[1:]\n",
    "    for c in to_hop(b,k-1):\n",
    "        c=[a[0]] + c\n",
    "        C.append(c)\n",
    "    for c in to_hop(b,k):\n",
    "        C.append(c)\n",
    "    return C\n",
    "\n",
    "\n"
   ]
  },
  {
   "cell_type": "code",
   "execution_count": 4,
   "metadata": {},
   "outputs": [
    {
     "data": {
      "text/plain": [
       "[['a', 'b', 'c', 'd']]"
      ]
     },
     "execution_count": 4,
     "metadata": {},
     "output_type": "execute_result"
    }
   ],
   "source": [
    "to_hop(['a', 'b', 'c', 'd'], 4)"
   ]
  },
  {
   "cell_type": "code",
   "execution_count": 10,
   "metadata": {},
   "outputs": [],
   "source": [
    "def so_to_hop(n, k):\n",
    "    if k==n: \n",
    "        return 1\n",
    "    if k==1:\n",
    "        return n\n",
    "    \n",
    "    return so_to_hop(n - 1, k - 1) + so_to_hop(n - 1, k)"
   ]
  },
  {
   "cell_type": "code",
   "execution_count": 16,
   "metadata": {},
   "outputs": [
    {
     "data": {
      "text/plain": [
       "126"
      ]
     },
     "execution_count": 16,
     "metadata": {},
     "output_type": "execute_result"
    }
   ],
   "source": [
    "so_to_hop(9,5)"
   ]
  },
  {
   "cell_type": "code",
   "execution_count": null,
   "metadata": {},
   "outputs": [],
   "source": []
  },
  {
   "cell_type": "code",
   "execution_count": null,
   "metadata": {},
   "outputs": [],
   "source": []
  }
 ],
 "metadata": {
  "kernelspec": {
   "display_name": "Python 3",
   "language": "python",
   "name": "python3"
  },
  "language_info": {
   "codemirror_mode": {
    "name": "ipython",
    "version": 3
   },
   "file_extension": ".py",
   "mimetype": "text/x-python",
   "name": "python",
   "nbconvert_exporter": "python",
   "pygments_lexer": "ipython3",
   "version": "3.12.1"
  }
 },
 "nbformat": 4,
 "nbformat_minor": 2
}
