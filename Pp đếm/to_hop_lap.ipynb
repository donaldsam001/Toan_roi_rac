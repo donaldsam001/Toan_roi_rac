{
 "cells": [
  {
   "cell_type": "code",
   "execution_count": 5,
   "metadata": {},
   "outputs": [],
   "source": [
    "def to_hop_lap(a, k):\n",
    "    if k == 0:\n",
    "        return [[]]  \n",
    "    \n",
    "    C = []\n",
    "    for i in range(len(a)):\n",
    "        for c in to_hop_lap(a[i:], k - 1):  \n",
    "            C.append([a[i]] + c)\n",
    "    \n",
    "    return C\n",
    "\n",
    "\n"
   ]
  },
  {
   "cell_type": "code",
   "execution_count": 9,
   "metadata": {},
   "outputs": [
    {
     "data": {
      "text/plain": [
       "[['a', 'a', 'a', 'a'],\n",
       " ['a', 'a', 'a', 'b'],\n",
       " ['a', 'a', 'a', 'c'],\n",
       " ['a', 'a', 'b', 'b'],\n",
       " ['a', 'a', 'b', 'c'],\n",
       " ['a', 'a', 'c', 'c'],\n",
       " ['a', 'b', 'b', 'b'],\n",
       " ['a', 'b', 'b', 'c'],\n",
       " ['a', 'b', 'c', 'c'],\n",
       " ['a', 'c', 'c', 'c'],\n",
       " ['b', 'b', 'b', 'b'],\n",
       " ['b', 'b', 'b', 'c'],\n",
       " ['b', 'b', 'c', 'c'],\n",
       " ['b', 'c', 'c', 'c'],\n",
       " ['c', 'c', 'c', 'c']]"
      ]
     },
     "execution_count": 9,
     "metadata": {},
     "output_type": "execute_result"
    }
   ],
   "source": [
    "to_hop_lap(['a','b', 'c'], 4)"
   ]
  },
  {
   "cell_type": "code",
   "execution_count": 1,
   "metadata": {},
   "outputs": [],
   "source": [
    "def so_to_hop_lap(n, k):\n",
    "    if k == 1:\n",
    "        return n\n",
    "    if n == 1:\n",
    "        return 1  \n",
    "\n",
    "    return so_to_hop_lap(n, k - 1) + so_to_hop_lap(n - 1, k)\n"
   ]
  },
  {
   "cell_type": "code",
   "execution_count": 8,
   "metadata": {},
   "outputs": [
    {
     "data": {
      "text/plain": [
       "15"
      ]
     },
     "execution_count": 8,
     "metadata": {},
     "output_type": "execute_result"
    }
   ],
   "source": [
    "so_to_hop_lap(3,4)"
   ]
  },
  {
   "cell_type": "code",
   "execution_count": 30,
   "metadata": {},
   "outputs": [],
   "source": [
    "def phan_hang(k):\n",
    "    S=[]\n",
    "    for i in range(1,k):\n",
    "        for s in phan_hang(k-i):\n",
    "            s= [i]+s\n",
    "            S.append(s)\n",
    "    S.append([k])\n",
    "    return S\n",
    "    "
   ]
  },
  {
   "cell_type": "code",
   "execution_count": 31,
   "metadata": {},
   "outputs": [
    {
     "data": {
      "text/plain": [
       "[[1, 1, 1, 1, 1],\n",
       " [1, 1, 1, 2],\n",
       " [1, 1, 2, 1],\n",
       " [1, 1, 3],\n",
       " [1, 2, 1, 1],\n",
       " [1, 2, 2],\n",
       " [1, 3, 1],\n",
       " [1, 4],\n",
       " [2, 1, 1, 1],\n",
       " [2, 1, 2],\n",
       " [2, 2, 1],\n",
       " [2, 3],\n",
       " [3, 1, 1],\n",
       " [3, 2],\n",
       " [4, 1],\n",
       " [5]]"
      ]
     },
     "execution_count": 31,
     "metadata": {},
     "output_type": "execute_result"
    }
   ],
   "source": [
    "phan_hang(5)"
   ]
  },
  {
   "cell_type": "code",
   "execution_count": 10,
   "metadata": {},
   "outputs": [],
   "source": [
    "def solutions(n,k):\n",
    "    if n==1:\n",
    "        return [[k]]\n",
    "    S=[]\n",
    "    for i in range(k+1):\n",
    "        for s in solutions(n-1,k-i):\n",
    "            s=s+ [i]\n",
    "            S.append(s)\n",
    "    return S\n"
   ]
  },
  {
   "cell_type": "code",
   "execution_count": 11,
   "metadata": {},
   "outputs": [
    {
     "data": {
      "text/plain": [
       "[[4, 0, 0],\n",
       " [3, 1, 0],\n",
       " [2, 2, 0],\n",
       " [1, 3, 0],\n",
       " [0, 4, 0],\n",
       " [3, 0, 1],\n",
       " [2, 1, 1],\n",
       " [1, 2, 1],\n",
       " [0, 3, 1],\n",
       " [2, 0, 2],\n",
       " [1, 1, 2],\n",
       " [0, 2, 2],\n",
       " [1, 0, 3],\n",
       " [0, 1, 3],\n",
       " [0, 0, 4]]"
      ]
     },
     "execution_count": 11,
     "metadata": {},
     "output_type": "execute_result"
    }
   ],
   "source": [
    "solutions(3,4)"
   ]
  },
  {
   "cell_type": "code",
   "execution_count": 14,
   "metadata": {},
   "outputs": [],
   "source": [
    "def positive_solution(n, k):\n",
    "    S=[]\n",
    "    for s in solutions(n, k-n):\n",
    "        s=[i+1 for i in s]\n",
    "        S.append(s)\n",
    "    return S"
   ]
  },
  {
   "cell_type": "code",
   "execution_count": 15,
   "metadata": {},
   "outputs": [
    {
     "data": {
      "text/plain": [
       "[[2, 1, 1], [1, 2, 1], [1, 1, 2]]"
      ]
     },
     "execution_count": 15,
     "metadata": {},
     "output_type": "execute_result"
    }
   ],
   "source": [
    "positive_solution(3,4)"
   ]
  },
  {
   "cell_type": "code",
   "execution_count": null,
   "metadata": {},
   "outputs": [],
   "source": []
  }
 ],
 "metadata": {
  "kernelspec": {
   "display_name": "Python 3",
   "language": "python",
   "name": "python3"
  },
  "language_info": {
   "codemirror_mode": {
    "name": "ipython",
    "version": 3
   },
   "file_extension": ".py",
   "mimetype": "text/x-python",
   "name": "python",
   "nbconvert_exporter": "python",
   "pygments_lexer": "ipython3",
   "version": "3.12.1"
  }
 },
 "nbformat": 4,
 "nbformat_minor": 2
}
