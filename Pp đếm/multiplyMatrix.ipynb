{
 "cells": [
  {
   "cell_type": "code",
   "execution_count": 3,
   "metadata": {},
   "outputs": [],
   "source": [
    "def multiply_matrices(matrix_a, matrix_b):\n",
    "    if len(matrix_a[0]) != len(matrix_b):\n",
    "        return(\"Number of columns in matrix A must equal number of rows in matrix B.\")\n",
    "    \n",
    "    # tao matran luu ket qua\n",
    "    result =[[0 for _ in range(len(matrix_b[0]))] for _ in range(len(matrix_a))]\n",
    "\n",
    "\n",
    "    for i in range(len(matrix_a)):\n",
    "        for j in range(len(matrix_b[0])):\n",
    "            result[i][j] = 0\n",
    "            for k in range(len(matrix_b)):\n",
    "                result[i][j] += matrix_a[i][k] * matrix_b[k][j]\n",
    "\n",
    "    return result"
   ]
  },
  {
   "cell_type": "code",
   "execution_count": 8,
   "metadata": {},
   "outputs": [
    {
     "data": {
      "text/plain": [
       "[[36, 36, 36], [96, 99, 102]]"
      ]
     },
     "execution_count": 8,
     "metadata": {},
     "output_type": "execute_result"
    }
   ],
   "source": [
    "multiply_matrices([[1,2,3], [4,5,6]], [[7,8,9], [10,11,12], [3,2,1]])\n",
    "\n"
   ]
  }
 ],
 "metadata": {
  "kernelspec": {
   "display_name": "Python 3",
   "language": "python",
   "name": "python3"
  },
  "language_info": {
   "codemirror_mode": {
    "name": "ipython",
    "version": 3
   },
   "file_extension": ".py",
   "mimetype": "text/x-python",
   "name": "python",
   "nbconvert_exporter": "python",
   "pygments_lexer": "ipython3",
   "version": "3.12.1"
  }
 },
 "nbformat": 4,
 "nbformat_minor": 2
}
