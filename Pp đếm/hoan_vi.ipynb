{
 "cells": [
  {
   "cell_type": "code",
   "execution_count": 12,
   "metadata": {},
   "outputs": [],
   "source": [
    "def hoan_vi(a):\n",
    "    if len(a) == 1:\n",
    "        return [a]\n",
    "    \n",
    "    C = []\n",
    "    for i in range(len(a)):\n",
    "        b = a.copy()\n",
    "        b.pop(i)\n",
    "        for c in hoan_vi(b):\n",
    "            C.append([a[i]] + c)\n",
    "    \n",
    "    return C\n",
    "\n"
   ]
  },
  {
   "cell_type": "code",
   "execution_count": 16,
   "metadata": {},
   "outputs": [
    {
     "data": {
      "text/plain": [
       "[['a', 'b', 'c'],\n",
       " ['a', 'c', 'b'],\n",
       " ['b', 'a', 'c'],\n",
       " ['b', 'c', 'a'],\n",
       " ['c', 'a', 'b'],\n",
       " ['c', 'b', 'a']]"
      ]
     },
     "execution_count": 16,
     "metadata": {},
     "output_type": "execute_result"
    }
   ],
   "source": [
    "hoan_vi(['a','b','c'])"
   ]
  },
  {
   "cell_type": "code",
   "execution_count": 20,
   "metadata": {},
   "outputs": [],
   "source": [
    "def so_hoan_vi(n):\n",
    "    if n == 1:\n",
    "        return 1\n",
    "    \n",
    "    return n * so_hoan_vi(n - 1) "
   ]
  },
  {
   "cell_type": "code",
   "execution_count": 26,
   "metadata": {},
   "outputs": [
    {
     "data": {
      "text/plain": [
       "120"
      ]
     },
     "execution_count": 26,
     "metadata": {},
     "output_type": "execute_result"
    }
   ],
   "source": [
    "so_hoan_vi(5)"
   ]
  },
  {
   "cell_type": "code",
   "execution_count": null,
   "metadata": {},
   "outputs": [],
   "source": []
  }
 ],
 "metadata": {
  "kernelspec": {
   "display_name": "Python 3",
   "language": "python",
   "name": "python3"
  },
  "language_info": {
   "codemirror_mode": {
    "name": "ipython",
    "version": 3
   },
   "file_extension": ".py",
   "mimetype": "text/x-python",
   "name": "python",
   "nbconvert_exporter": "python",
   "pygments_lexer": "ipython3",
   "version": "3.12.1"
  }
 },
 "nbformat": 4,
 "nbformat_minor": 2
}
