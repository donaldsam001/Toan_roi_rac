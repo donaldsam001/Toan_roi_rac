{
 "cells": [
  {
   "cell_type": "code",
   "execution_count": 3,
   "metadata": {},
   "outputs": [],
   "source": [
    "def hoan_vi_lap(a, n):\n",
    "    if sum(n)==0:\n",
    "        return [[]]\n",
    "    P= []\n",
    "    k= len(a)\n",
    "    for i in range(k):\n",
    "        if n[i]> 0:\n",
    "            n_=n.copy()\n",
    "            n_[i] -=1\n",
    "            for p in hoan_vi_lap(a,n_):\n",
    "                p= [a[i]]+ p\n",
    "                P.append(p)\n",
    "    return P"
   ]
  },
  {
   "cell_type": "code",
   "execution_count": 5,
   "metadata": {},
   "outputs": [
    {
     "data": {
      "text/plain": [
       "[['D', 'D', 'h', 'x'],\n",
       " ['D', 'D', 'x', 'h'],\n",
       " ['D', 'h', 'D', 'x'],\n",
       " ['D', 'h', 'x', 'D'],\n",
       " ['D', 'x', 'D', 'h'],\n",
       " ['D', 'x', 'h', 'D'],\n",
       " ['h', 'D', 'D', 'x'],\n",
       " ['h', 'D', 'x', 'D'],\n",
       " ['h', 'x', 'D', 'D'],\n",
       " ['x', 'D', 'D', 'h'],\n",
       " ['x', 'D', 'h', 'D'],\n",
       " ['x', 'h', 'D', 'D']]"
      ]
     },
     "execution_count": 5,
     "metadata": {},
     "output_type": "execute_result"
    }
   ],
   "source": [
    "hoan_vi_lap(['D','h', 'x'], [2,1,1])"
   ]
  },
  {
   "cell_type": "code",
   "execution_count": 6,
   "metadata": {},
   "outputs": [],
   "source": [
    "def so_hoan_vi_lap(n):\n",
    "    count=0\n",
    "\n",
    "    if sum(n)==0:\n",
    "        return 1\n",
    "    for i in range(len(n)):\n",
    "        if n[i]> 0:\n",
    "            n_=n.copy()\n",
    "            n_[i] -=1\n",
    "            count += so_hoan_vi_lap(n_)\n",
    "\n",
    "    return count"
   ]
  },
  {
   "cell_type": "code",
   "execution_count": 8,
   "metadata": {},
   "outputs": [
    {
     "data": {
      "text/plain": [
       "56"
      ]
     },
     "execution_count": 8,
     "metadata": {},
     "output_type": "execute_result"
    }
   ],
   "source": [
    "so_hoan_vi_lap([5,3])"
   ]
  },
  {
   "cell_type": "code",
   "execution_count": null,
   "metadata": {},
   "outputs": [],
   "source": []
  }
 ],
 "metadata": {
  "kernelspec": {
   "display_name": "Python 3",
   "language": "python",
   "name": "python3"
  },
  "language_info": {
   "codemirror_mode": {
    "name": "ipython",
    "version": 3
   },
   "file_extension": ".py",
   "mimetype": "text/x-python",
   "name": "python",
   "nbconvert_exporter": "python",
   "pygments_lexer": "ipython3",
   "version": "3.12.1"
  }
 },
 "nbformat": 4,
 "nbformat_minor": 2
}
