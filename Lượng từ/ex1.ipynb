{
 "cells": [
  {
   "cell_type": "code",
   "execution_count": 28,
   "metadata": {},
   "outputs": [],
   "source": [
    "def test(a):\n",
    "    n = len(a)\n",
    "    a_i = 1\n",
    "    for i in range(1,n-1):\n",
    "        e_j= 0\n",
    "        for j in range(i):\n",
    "            e_k = 0\n",
    "            for k in range(i+1,n):\n",
    "                e_k= e_k or a[i]== a[j]+ a[k]\n",
    "            e_j = e_j or e_k\n",
    "        a_i = a_i and e_j\n",
    "    \n",
    "    return a_i"
   ]
  },
  {
   "cell_type": "code",
   "execution_count": 13,
   "metadata": {},
   "outputs": [
    {
     "data": {
      "text/plain": [
       "[39, 38, 26, 71, 7, 19, 71, 69, 20, 35]"
      ]
     },
     "execution_count": 13,
     "metadata": {},
     "output_type": "execute_result"
    }
   ],
   "source": [
    "import random\n",
    "\n",
    "array = random.choices(range(1, 101), k=10)  # 10 số trong khoảng 1–100\n",
    "array\n"
   ]
  },
  {
   "cell_type": "code",
   "execution_count": 21,
   "metadata": {},
   "outputs": [
    {
     "name": "stdout",
     "output_type": "stream",
     "text": [
      "[8, -1, -8, -7, 4, 3, 3, -1, -6, 9]\n"
     ]
    }
   ],
   "source": [
    "import random\n",
    "\n",
    "# Tạo một list không có số 0\n",
    "numbers = list(range(-10, 0)) + list(range(1, 10))\n",
    "\n",
    "# Random 10 phần tử từ list đó\n",
    "array = random.choices(numbers, k=10)\n",
    "\n",
    "print(array)\n"
   ]
  },
  {
   "cell_type": "code",
   "execution_count": 23,
   "metadata": {},
   "outputs": [],
   "source": [
    "array1= [ 6, 1, 4, 2, 8,10, 11, 5,3, 9]"
   ]
  },
  {
   "cell_type": "code",
   "execution_count": 29,
   "metadata": {},
   "outputs": [
    {
     "data": {
      "text/plain": [
       "False"
      ]
     },
     "execution_count": 29,
     "metadata": {},
     "output_type": "execute_result"
    }
   ],
   "source": [
    "test(array)"
   ]
  },
  {
   "cell_type": "code",
   "execution_count": 30,
   "metadata": {},
   "outputs": [
    {
     "data": {
      "text/plain": [
       "[7, 8, 9, 5, -3, -2, -7, 1, -8, -5]"
      ]
     },
     "execution_count": 30,
     "metadata": {},
     "output_type": "execute_result"
    }
   ],
   "source": [
    "while True:\n",
    "    a = random.sample(range(-10,11),10)\n",
    "    if test(a):\n",
    "        break\n",
    "a"
   ]
  },
  {
   "cell_type": "code",
   "execution_count": null,
   "metadata": {},
   "outputs": [],
   "source": []
  }
 ],
 "metadata": {
  "kernelspec": {
   "display_name": "Python 3",
   "language": "python",
   "name": "python3"
  },
  "language_info": {
   "codemirror_mode": {
    "name": "ipython",
    "version": 3
   },
   "file_extension": ".py",
   "mimetype": "text/x-python",
   "name": "python",
   "nbconvert_exporter": "python",
   "pygments_lexer": "ipython3",
   "version": "3.12.1"
  }
 },
 "nbformat": 4,
 "nbformat_minor": 2
}
